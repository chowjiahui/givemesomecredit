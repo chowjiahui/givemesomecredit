{
 "cells": [
  {
   "cell_type": "markdown",
   "metadata": {},
   "source": [
    "# Questions\n",
    "\n",
    "### Model insights and preliminary analysis of dataset\n",
    "\n",
    "There are certain outliers with exceptionally hight debt ratio and revolving utilization of unsecured lines, which did not have an impact on default probability. I expected that these higher values would contribute to higher defaults. Since they did not, it does seem like values entered by mistake.\n",
    "\n",
    "There is collinearity between the variable NumberOfTime30-59DaysPastDueNotWorse and NumberOfTimes90DaysLate. This indicates behaviour of recurring late payments. I do find it strange, however, that NumberOfTime60-89DaysPastDueNotWorse is not linearly related to these 2 variables as well, and will explore it given more time and access to subject matter experts in this area.\n",
    "\n",
    "I also binned MonthlyIncome values and converted it to an ordinal categorical variable. Although one would expect default probabilities to go down with higher income, I observed that default probabilities only decreased slightly for higher income groups. Income ranges are also easier to predict, and this was done for the missing values.\n",
    "\n",
    "---\n",
    "\n",
    "\n",
    "### How did I evaluate my model, and why I chose such a technique\n",
    "\n",
    "I evaluated my models based on AUC-ROC - the area under the Receiver Operating Curve. This metric is suitable for a class imbalance problem as opposed to accuracy, which will be falsely inflated due to higher true positives from the majority class. \n",
    "\n",
    "If I had more time, I would look at tuning the hyperparameters of an xgboost model, but I think that a random forest classifier suits this problem particularly well with an absence of one-hot variables. It does also make sense to split the data based on certain cut-off ranges of income bracket and frequency of late payments. \n",
    "\n",
    "Some error analysis into important features would be nice if I had more time.\n",
    "\n",
    "---\n",
    "\n",
    "### What is AUC? Why was it used as the evaluation metric for such a problem? What other suitable metrics are there?\n",
    "\n",
    "The AUC indicates how well the model is able to distinguish between positive and negative classes. The False Positive rate indicates how many negatives are predicted as positives. By plotting the curve, it shows us if there is a good trade-off between a high true positive rate (recall) and the false positive rate (directly related to precision). \n",
    "\n",
    "By plotting it this way, it also shows us how well the model performs compared to a baseline of simply predicting the majority class. This is done by looking at how close the curve is at attaining the ideal of 0 false positive rate, and perfect true positive rate. \n",
    "\n",
    "Other suitable metrics will include F1-score. It indicates the optimal threshold which makes the best trade-off between precision and recall. \n",
    "\n",
    "I think the corresponding recall value here is very important. It gives the bank some measure of the cases of default that might be missed if this model is used.\n",
    "\n",
    "---\n",
    "\n",
    "### Kaggle leaderboard of top 100 or higher\n",
    "\n",
    "Top 100 scores have a cut-off of 86.723%, and I do still have some ways to go with a top model score of 86.2%. \n",
    "\n",
    "---"
   ]
  },
  {
   "cell_type": "markdown",
   "metadata": {},
   "source": [
    "## 1: Data cleaning \n",
    "\n",
    "#### Summary of data cleaning steps:\n",
    "\n",
    "- MonthlyIncome values transformed into an ordinal variable (1 to 3 in ascending order of 'wealthiness')\n",
    "- Missing MonthlyIncome values predicted by a LogisticRegression model\n",
    "- Missing values in number of dependents mapped to 0 as an assumption\n",
    "- Removed outliers from DebtRatio and RevolvingUtilizationOfUnsecuredLines"
   ]
  },
  {
   "cell_type": "code",
   "execution_count": 138,
   "metadata": {},
   "outputs": [],
   "source": [
    "import pandas as pd\n",
    "import seaborn as sns\n",
    "import matplotlib.pyplot as plt"
   ]
  },
  {
   "cell_type": "code",
   "execution_count": 100,
   "metadata": {},
   "outputs": [
    {
     "data": {
      "text/html": [
       "<div>\n",
       "<style scoped>\n",
       "    .dataframe tbody tr th:only-of-type {\n",
       "        vertical-align: middle;\n",
       "    }\n",
       "\n",
       "    .dataframe tbody tr th {\n",
       "        vertical-align: top;\n",
       "    }\n",
       "\n",
       "    .dataframe thead th {\n",
       "        text-align: right;\n",
       "    }\n",
       "</style>\n",
       "<table border=\"1\" class=\"dataframe\">\n",
       "  <thead>\n",
       "    <tr style=\"text-align: right;\">\n",
       "      <th></th>\n",
       "      <th>Unnamed: 0</th>\n",
       "      <th>SeriousDlqin2yrs</th>\n",
       "      <th>RevolvingUtilizationOfUnsecuredLines</th>\n",
       "      <th>age</th>\n",
       "      <th>NumberOfTime30-59DaysPastDueNotWorse</th>\n",
       "      <th>DebtRatio</th>\n",
       "      <th>MonthlyIncome</th>\n",
       "      <th>NumberOfOpenCreditLinesAndLoans</th>\n",
       "      <th>NumberOfTimes90DaysLate</th>\n",
       "      <th>NumberRealEstateLoansOrLines</th>\n",
       "      <th>NumberOfTime60-89DaysPastDueNotWorse</th>\n",
       "      <th>NumberOfDependents</th>\n",
       "    </tr>\n",
       "  </thead>\n",
       "  <tbody>\n",
       "    <tr>\n",
       "      <th>0</th>\n",
       "      <td>1</td>\n",
       "      <td>1</td>\n",
       "      <td>0.766127</td>\n",
       "      <td>45</td>\n",
       "      <td>2</td>\n",
       "      <td>0.802982</td>\n",
       "      <td>9120.0</td>\n",
       "      <td>13</td>\n",
       "      <td>0</td>\n",
       "      <td>6</td>\n",
       "      <td>0</td>\n",
       "      <td>2.0</td>\n",
       "    </tr>\n",
       "    <tr>\n",
       "      <th>1</th>\n",
       "      <td>2</td>\n",
       "      <td>0</td>\n",
       "      <td>0.957151</td>\n",
       "      <td>40</td>\n",
       "      <td>0</td>\n",
       "      <td>0.121876</td>\n",
       "      <td>2600.0</td>\n",
       "      <td>4</td>\n",
       "      <td>0</td>\n",
       "      <td>0</td>\n",
       "      <td>0</td>\n",
       "      <td>1.0</td>\n",
       "    </tr>\n",
       "    <tr>\n",
       "      <th>2</th>\n",
       "      <td>3</td>\n",
       "      <td>0</td>\n",
       "      <td>0.658180</td>\n",
       "      <td>38</td>\n",
       "      <td>1</td>\n",
       "      <td>0.085113</td>\n",
       "      <td>3042.0</td>\n",
       "      <td>2</td>\n",
       "      <td>1</td>\n",
       "      <td>0</td>\n",
       "      <td>0</td>\n",
       "      <td>0.0</td>\n",
       "    </tr>\n",
       "    <tr>\n",
       "      <th>3</th>\n",
       "      <td>4</td>\n",
       "      <td>0</td>\n",
       "      <td>0.233810</td>\n",
       "      <td>30</td>\n",
       "      <td>0</td>\n",
       "      <td>0.036050</td>\n",
       "      <td>3300.0</td>\n",
       "      <td>5</td>\n",
       "      <td>0</td>\n",
       "      <td>0</td>\n",
       "      <td>0</td>\n",
       "      <td>0.0</td>\n",
       "    </tr>\n",
       "    <tr>\n",
       "      <th>4</th>\n",
       "      <td>5</td>\n",
       "      <td>0</td>\n",
       "      <td>0.907239</td>\n",
       "      <td>49</td>\n",
       "      <td>1</td>\n",
       "      <td>0.024926</td>\n",
       "      <td>63588.0</td>\n",
       "      <td>7</td>\n",
       "      <td>0</td>\n",
       "      <td>1</td>\n",
       "      <td>0</td>\n",
       "      <td>0.0</td>\n",
       "    </tr>\n",
       "  </tbody>\n",
       "</table>\n",
       "</div>"
      ],
      "text/plain": [
       "   Unnamed: 0  SeriousDlqin2yrs  RevolvingUtilizationOfUnsecuredLines  age  \\\n",
       "0           1                 1                              0.766127   45   \n",
       "1           2                 0                              0.957151   40   \n",
       "2           3                 0                              0.658180   38   \n",
       "3           4                 0                              0.233810   30   \n",
       "4           5                 0                              0.907239   49   \n",
       "\n",
       "   NumberOfTime30-59DaysPastDueNotWorse  DebtRatio  MonthlyIncome  \\\n",
       "0                                     2   0.802982         9120.0   \n",
       "1                                     0   0.121876         2600.0   \n",
       "2                                     1   0.085113         3042.0   \n",
       "3                                     0   0.036050         3300.0   \n",
       "4                                     1   0.024926        63588.0   \n",
       "\n",
       "   NumberOfOpenCreditLinesAndLoans  NumberOfTimes90DaysLate  \\\n",
       "0                               13                        0   \n",
       "1                                4                        0   \n",
       "2                                2                        1   \n",
       "3                                5                        0   \n",
       "4                                7                        0   \n",
       "\n",
       "   NumberRealEstateLoansOrLines  NumberOfTime60-89DaysPastDueNotWorse  \\\n",
       "0                             6                                     0   \n",
       "1                             0                                     0   \n",
       "2                             0                                     0   \n",
       "3                             0                                     0   \n",
       "4                             1                                     0   \n",
       "\n",
       "   NumberOfDependents  \n",
       "0                 2.0  \n",
       "1                 1.0  \n",
       "2                 0.0  \n",
       "3                 0.0  \n",
       "4                 0.0  "
      ]
     },
     "execution_count": 100,
     "metadata": {},
     "output_type": "execute_result"
    }
   ],
   "source": [
    "full_train_path = \"cs-training.csv\"\n",
    "\n",
    "full_train = pd.read_csv(full_train_path)\n",
    "full_train.head()"
   ]
  },
  {
   "cell_type": "code",
   "execution_count": 101,
   "metadata": {},
   "outputs": [],
   "source": [
    "full_train.drop(columns=['Unnamed: 0'], inplace = True)"
   ]
  },
  {
   "cell_type": "code",
   "execution_count": 4,
   "metadata": {},
   "outputs": [
    {
     "name": "stdout",
     "output_type": "stream",
     "text": [
      "<class 'pandas.core.frame.DataFrame'>\n",
      "RangeIndex: 150000 entries, 0 to 149999\n",
      "Data columns (total 11 columns):\n",
      "SeriousDlqin2yrs                        150000 non-null int64\n",
      "RevolvingUtilizationOfUnsecuredLines    150000 non-null float64\n",
      "age                                     150000 non-null int64\n",
      "NumberOfTime30-59DaysPastDueNotWorse    150000 non-null int64\n",
      "DebtRatio                               150000 non-null float64\n",
      "MonthlyIncome                           120269 non-null float64\n",
      "NumberOfOpenCreditLinesAndLoans         150000 non-null int64\n",
      "NumberOfTimes90DaysLate                 150000 non-null int64\n",
      "NumberRealEstateLoansOrLines            150000 non-null int64\n",
      "NumberOfTime60-89DaysPastDueNotWorse    150000 non-null int64\n",
      "NumberOfDependents                      146076 non-null float64\n",
      "dtypes: float64(4), int64(7)\n",
      "memory usage: 12.6 MB\n"
     ]
    }
   ],
   "source": [
    "full_train.info()\n",
    "# number of dependents and monthly income has missing values"
   ]
  },
  {
   "cell_type": "code",
   "execution_count": 5,
   "metadata": {},
   "outputs": [
    {
     "data": {
      "text/html": [
       "<div>\n",
       "<style scoped>\n",
       "    .dataframe tbody tr th:only-of-type {\n",
       "        vertical-align: middle;\n",
       "    }\n",
       "\n",
       "    .dataframe tbody tr th {\n",
       "        vertical-align: top;\n",
       "    }\n",
       "\n",
       "    .dataframe thead th {\n",
       "        text-align: right;\n",
       "    }\n",
       "</style>\n",
       "<table border=\"1\" class=\"dataframe\">\n",
       "  <thead>\n",
       "    <tr style=\"text-align: right;\">\n",
       "      <th></th>\n",
       "      <th>SeriousDlqin2yrs</th>\n",
       "      <th>RevolvingUtilizationOfUnsecuredLines</th>\n",
       "      <th>age</th>\n",
       "      <th>NumberOfTime30-59DaysPastDueNotWorse</th>\n",
       "      <th>DebtRatio</th>\n",
       "      <th>MonthlyIncome</th>\n",
       "      <th>NumberOfOpenCreditLinesAndLoans</th>\n",
       "      <th>NumberOfTimes90DaysLate</th>\n",
       "      <th>NumberRealEstateLoansOrLines</th>\n",
       "      <th>NumberOfTime60-89DaysPastDueNotWorse</th>\n",
       "      <th>NumberOfDependents</th>\n",
       "    </tr>\n",
       "  </thead>\n",
       "  <tbody>\n",
       "    <tr>\n",
       "      <th>count</th>\n",
       "      <td>150000.000000</td>\n",
       "      <td>150000.000000</td>\n",
       "      <td>150000.000000</td>\n",
       "      <td>150000.000000</td>\n",
       "      <td>150000.000000</td>\n",
       "      <td>1.202690e+05</td>\n",
       "      <td>150000.000000</td>\n",
       "      <td>150000.000000</td>\n",
       "      <td>150000.000000</td>\n",
       "      <td>150000.000000</td>\n",
       "      <td>146076.000000</td>\n",
       "    </tr>\n",
       "    <tr>\n",
       "      <th>mean</th>\n",
       "      <td>0.066840</td>\n",
       "      <td>6.048438</td>\n",
       "      <td>52.295207</td>\n",
       "      <td>0.421033</td>\n",
       "      <td>353.005076</td>\n",
       "      <td>6.670221e+03</td>\n",
       "      <td>8.452760</td>\n",
       "      <td>0.265973</td>\n",
       "      <td>1.018240</td>\n",
       "      <td>0.240387</td>\n",
       "      <td>0.757222</td>\n",
       "    </tr>\n",
       "    <tr>\n",
       "      <th>std</th>\n",
       "      <td>0.249746</td>\n",
       "      <td>249.755371</td>\n",
       "      <td>14.771866</td>\n",
       "      <td>4.192781</td>\n",
       "      <td>2037.818523</td>\n",
       "      <td>1.438467e+04</td>\n",
       "      <td>5.145951</td>\n",
       "      <td>4.169304</td>\n",
       "      <td>1.129771</td>\n",
       "      <td>4.155179</td>\n",
       "      <td>1.115086</td>\n",
       "    </tr>\n",
       "    <tr>\n",
       "      <th>min</th>\n",
       "      <td>0.000000</td>\n",
       "      <td>0.000000</td>\n",
       "      <td>0.000000</td>\n",
       "      <td>0.000000</td>\n",
       "      <td>0.000000</td>\n",
       "      <td>0.000000e+00</td>\n",
       "      <td>0.000000</td>\n",
       "      <td>0.000000</td>\n",
       "      <td>0.000000</td>\n",
       "      <td>0.000000</td>\n",
       "      <td>0.000000</td>\n",
       "    </tr>\n",
       "    <tr>\n",
       "      <th>25%</th>\n",
       "      <td>0.000000</td>\n",
       "      <td>0.029867</td>\n",
       "      <td>41.000000</td>\n",
       "      <td>0.000000</td>\n",
       "      <td>0.175074</td>\n",
       "      <td>3.400000e+03</td>\n",
       "      <td>5.000000</td>\n",
       "      <td>0.000000</td>\n",
       "      <td>0.000000</td>\n",
       "      <td>0.000000</td>\n",
       "      <td>0.000000</td>\n",
       "    </tr>\n",
       "    <tr>\n",
       "      <th>50%</th>\n",
       "      <td>0.000000</td>\n",
       "      <td>0.154181</td>\n",
       "      <td>52.000000</td>\n",
       "      <td>0.000000</td>\n",
       "      <td>0.366508</td>\n",
       "      <td>5.400000e+03</td>\n",
       "      <td>8.000000</td>\n",
       "      <td>0.000000</td>\n",
       "      <td>1.000000</td>\n",
       "      <td>0.000000</td>\n",
       "      <td>0.000000</td>\n",
       "    </tr>\n",
       "    <tr>\n",
       "      <th>75%</th>\n",
       "      <td>0.000000</td>\n",
       "      <td>0.559046</td>\n",
       "      <td>63.000000</td>\n",
       "      <td>0.000000</td>\n",
       "      <td>0.868254</td>\n",
       "      <td>8.249000e+03</td>\n",
       "      <td>11.000000</td>\n",
       "      <td>0.000000</td>\n",
       "      <td>2.000000</td>\n",
       "      <td>0.000000</td>\n",
       "      <td>1.000000</td>\n",
       "    </tr>\n",
       "    <tr>\n",
       "      <th>max</th>\n",
       "      <td>1.000000</td>\n",
       "      <td>50708.000000</td>\n",
       "      <td>109.000000</td>\n",
       "      <td>98.000000</td>\n",
       "      <td>329664.000000</td>\n",
       "      <td>3.008750e+06</td>\n",
       "      <td>58.000000</td>\n",
       "      <td>98.000000</td>\n",
       "      <td>54.000000</td>\n",
       "      <td>98.000000</td>\n",
       "      <td>20.000000</td>\n",
       "    </tr>\n",
       "  </tbody>\n",
       "</table>\n",
       "</div>"
      ],
      "text/plain": [
       "       SeriousDlqin2yrs  RevolvingUtilizationOfUnsecuredLines            age  \\\n",
       "count     150000.000000                         150000.000000  150000.000000   \n",
       "mean           0.066840                              6.048438      52.295207   \n",
       "std            0.249746                            249.755371      14.771866   \n",
       "min            0.000000                              0.000000       0.000000   \n",
       "25%            0.000000                              0.029867      41.000000   \n",
       "50%            0.000000                              0.154181      52.000000   \n",
       "75%            0.000000                              0.559046      63.000000   \n",
       "max            1.000000                          50708.000000     109.000000   \n",
       "\n",
       "       NumberOfTime30-59DaysPastDueNotWorse      DebtRatio  MonthlyIncome  \\\n",
       "count                         150000.000000  150000.000000   1.202690e+05   \n",
       "mean                               0.421033     353.005076   6.670221e+03   \n",
       "std                                4.192781    2037.818523   1.438467e+04   \n",
       "min                                0.000000       0.000000   0.000000e+00   \n",
       "25%                                0.000000       0.175074   3.400000e+03   \n",
       "50%                                0.000000       0.366508   5.400000e+03   \n",
       "75%                                0.000000       0.868254   8.249000e+03   \n",
       "max                               98.000000  329664.000000   3.008750e+06   \n",
       "\n",
       "       NumberOfOpenCreditLinesAndLoans  NumberOfTimes90DaysLate  \\\n",
       "count                    150000.000000            150000.000000   \n",
       "mean                          8.452760                 0.265973   \n",
       "std                           5.145951                 4.169304   \n",
       "min                           0.000000                 0.000000   \n",
       "25%                           5.000000                 0.000000   \n",
       "50%                           8.000000                 0.000000   \n",
       "75%                          11.000000                 0.000000   \n",
       "max                          58.000000                98.000000   \n",
       "\n",
       "       NumberRealEstateLoansOrLines  NumberOfTime60-89DaysPastDueNotWorse  \\\n",
       "count                 150000.000000                         150000.000000   \n",
       "mean                       1.018240                              0.240387   \n",
       "std                        1.129771                              4.155179   \n",
       "min                        0.000000                              0.000000   \n",
       "25%                        0.000000                              0.000000   \n",
       "50%                        1.000000                              0.000000   \n",
       "75%                        2.000000                              0.000000   \n",
       "max                       54.000000                             98.000000   \n",
       "\n",
       "       NumberOfDependents  \n",
       "count       146076.000000  \n",
       "mean             0.757222  \n",
       "std              1.115086  \n",
       "min              0.000000  \n",
       "25%              0.000000  \n",
       "50%              0.000000  \n",
       "75%              1.000000  \n",
       "max             20.000000  "
      ]
     },
     "execution_count": 5,
     "metadata": {},
     "output_type": "execute_result"
    }
   ],
   "source": [
    "full_train.describe()"
   ]
  },
  {
   "cell_type": "markdown",
   "metadata": {},
   "source": [
    "Bigger standard deviation values indicate outliers, in particular for RevolvingUtilizationOfUnsecuredLines and DebtRatio."
   ]
  },
  {
   "cell_type": "code",
   "execution_count": 7,
   "metadata": {},
   "outputs": [
    {
     "data": {
      "text/plain": [
       "0    139974\n",
       "1     10026\n",
       "Name: SeriousDlqin2yrs, dtype: int64"
      ]
     },
     "execution_count": 7,
     "metadata": {},
     "output_type": "execute_result"
    }
   ],
   "source": [
    "full_train.SeriousDlqin2yrs.value_counts()"
   ]
  },
  {
   "cell_type": "code",
   "execution_count": 97,
   "metadata": {},
   "outputs": [
    {
     "data": {
      "text/plain": [
       "0.07162758798062498"
      ]
     },
     "execution_count": 97,
     "metadata": {},
     "output_type": "execute_result"
    }
   ],
   "source": [
    "10026/139974"
   ]
  },
  {
   "cell_type": "code",
   "execution_count": 130,
   "metadata": {},
   "outputs": [],
   "source": [
    "def default_proba(dataframe):\n",
    "    counts = dataframe.SeriousDlqin2yrs.value_counts()\n",
    "    pos_count = counts.get(1, 0)\n",
    "    prob = round(pos_count / counts[0], 3)\n",
    "    print(f\"Number of positive samples: {pos_count}\")\n",
    "    print(f\"Probability of default: {prob}\")"
   ]
  },
  {
   "cell_type": "markdown",
   "metadata": {},
   "source": [
    "The minority class percentage is about 7%, so this is an important number to look out for when evaluating if outliers should be dropped, or when considering if certain groups are more likely to default than others.\n",
    "\n",
    "\n",
    "### 1.1: Handling outliers in RevolvingUtilizationofUnsecuredLines\n",
    "\n",
    "RL (revolving utilization of unsecured lines) does contain some outliers. This column is a percentage value as mentioned in the data_dict, but "
   ]
  },
  {
   "cell_type": "code",
   "execution_count": 103,
   "metadata": {},
   "outputs": [
    {
     "data": {
      "text/plain": [
       "<matplotlib.axes._subplots.AxesSubplot at 0x1a38ffc550>"
      ]
     },
     "execution_count": 103,
     "metadata": {},
     "output_type": "execute_result"
    },
    {
     "data": {
      "image/png": "[encoded data removed]",
      "text/plain": [
       "<matplotlib.figure.Figure at 0x1a3979a780>"
      ]
     },
     "metadata": {},
     "output_type": "display_data"
    }
   ],
   "source": [
    "sns.violinplot(full_train.RevolvingUtilizationOfUnsecuredLines)"
   ]
  },
  {
   "cell_type": "code",
   "execution_count": 107,
   "metadata": {},
   "outputs": [
    {
     "data": {
      "text/plain": [
       "<matplotlib.axes._subplots.AxesSubplot at 0x1a395be4a8>"
      ]
     },
     "execution_count": 107,
     "metadata": {},
     "output_type": "execute_result"
    },
    {
     "data": {
      "image/png": "[encoded data removed]",
      "text/plain": [
       "<matplotlib.figure.Figure at 0x1a39114748>"
      ]
     },
     "metadata": {},
     "output_type": "display_data"
    }
   ],
   "source": [
    "rl_less_than_100 = full_train[(full_train.RevolvingUtilizationOfUnsecuredLines <= 100)]\n",
    "sns.violinplot(rl_less_than_100.RevolvingUtilizationOfUnsecuredLines)"
   ]
  },
  {
   "cell_type": "code",
   "execution_count": 114,
   "metadata": {},
   "outputs": [
    {
     "name": "stdout",
     "output_type": "stream",
     "text": [
      "Probability of default: 0.072\n"
     ]
    }
   ],
   "source": [
    "default_proba(rl_less_than_100)"
   ]
  },
  {
   "cell_type": "code",
   "execution_count": 116,
   "metadata": {},
   "outputs": [
    {
     "data": {
      "text/plain": [
       "<matplotlib.axes._subplots.AxesSubplot at 0x1a398bfc88>"
      ]
     },
     "execution_count": 116,
     "metadata": {},
     "output_type": "execute_result"
    },
    {
     "data": {
      "image/png": "[encoded data removed]",
      "text/plain": [
       "<matplotlib.figure.Figure at 0x1a38517ef0>"
      ]
     },
     "metadata": {},
     "output_type": "display_data"
    }
   ],
   "source": [
    "rl_less_than_10 = full_train[(full_train.RevolvingUtilizationOfUnsecuredLines <= 10)]\n",
    "sns.violinplot(rl_less_than_10.RevolvingUtilizationOfUnsecuredLines)"
   ]
  },
  {
   "cell_type": "code",
   "execution_count": 123,
   "metadata": {},
   "outputs": [
    {
     "name": "stdout",
     "output_type": "stream",
     "text": [
      "Number of positive samples: 10009\n",
      "Probability of default: 0.072\n"
     ]
    }
   ],
   "source": [
    "default_proba(rl_less_than_10)"
   ]
  },
  {
   "cell_type": "markdown",
   "metadata": {},
   "source": [
    "Logically, I expected that having more unsecured lines likely means higher probability of default and financial difficulty. \n",
    "I was wondering if removing outliers with large RL values would lower the probability of default.\n",
    "Since this isn't the case, we can conclude that these outliers don't have a s significant impact on defaulting."
   ]
  },
  {
   "cell_type": "code",
   "execution_count": 125,
   "metadata": {},
   "outputs": [
    {
     "name": "stdout",
     "output_type": "stream",
     "text": [
      "Number of positive samples: 17\n",
      "Probability of default: 0.076\n"
     ]
    }
   ],
   "source": [
    "unsecured_lines_outliers = full_train[(full_train.RevolvingUtilizationOfUnsecuredLines > 10)]\n",
    "default_proba(unsecured_lines_outliers)"
   ]
  },
  {
   "cell_type": "code",
   "execution_count": 14,
   "metadata": {},
   "outputs": [],
   "source": [
    "full_train.drop(index=unsecured_lines_outliers.index, inplace=True)"
   ]
  },
  {
   "cell_type": "code",
   "execution_count": 15,
   "metadata": {},
   "outputs": [
    {
     "data": {
      "text/plain": [
       "<matplotlib.axes._subplots.AxesSubplot at 0x116cbbc88>"
      ]
     },
     "execution_count": 15,
     "metadata": {},
     "output_type": "execute_result"
    },
    {
     "data": {
      "image/png": "[encoded data removed]",
      "text/plain": [
       "<matplotlib.figure.Figure at 0x116ccadd8>"
      ]
     },
     "metadata": {},
     "output_type": "display_data"
    }
   ],
   "source": [
    "full_train.plot(x='RevolvingUtilizationOfUnsecuredLines', y='SeriousDlqin2yrs', style='o', alpha=0.1)"
   ]
  },
  {
   "cell_type": "markdown",
   "metadata": {},
   "source": [
    "Distribution of age looks okay at first glance. People who default do seem to come from a variety of ages. "
   ]
  },
  {
   "cell_type": "code",
   "execution_count": 121,
   "metadata": {},
   "outputs": [
    {
     "data": {
      "text/plain": [
       "<matplotlib.axes._subplots.AxesSubplot at 0x1c4730e358>"
      ]
     },
     "execution_count": 121,
     "metadata": {},
     "output_type": "execute_result"
    },
    {
     "data": {
      "image/png": "[encoded data removed]",
      "text/plain": [
       "<matplotlib.figure.Figure at 0x1c48b40908>"
      ]
     },
     "metadata": {},
     "output_type": "display_data"
    }
   ],
   "source": [
    "positive_class = full_train[(full_train.SeriousDlqin2yrs == 1)]\n",
    "negative_class = full_train[(full_train.SeriousDlqin2yrs == 0)]\n",
    "\n",
    "negative_class.age.hist(alpha=0.5)\n",
    "positive_class.age.hist(alpha=0.5)"
   ]
  },
  {
   "cell_type": "markdown",
   "metadata": {},
   "source": [
    "### 1.2: Removing outliers for DebtRatio\n",
    "\n",
    "Outliers above 40,000 or 50,000 are not the ones defaulting, oddly, given the extreme amount of leverage they have."
   ]
  },
  {
   "cell_type": "code",
   "execution_count": 18,
   "metadata": {},
   "outputs": [
    {
     "data": {
      "text/plain": [
       "<matplotlib.axes._subplots.AxesSubplot at 0x1173796a0>"
      ]
     },
     "execution_count": 18,
     "metadata": {},
     "output_type": "execute_result"
    },
    {
     "data": {
      "image/png": "[encoded data removed]",
      "text/plain": [
       "<matplotlib.figure.Figure at 0x11733f550>"
      ]
     },
     "metadata": {},
     "output_type": "display_data"
    }
   ],
   "source": [
    "full_train.plot(x='DebtRatio', y='SeriousDlqin2yrs', style='o', alpha=0.1)\n",
    "# outliers/data-entry errors above 40k or 50k don't have an impact on default"
   ]
  },
  {
   "cell_type": "code",
   "execution_count": 126,
   "metadata": {},
   "outputs": [
    {
     "name": "stdout",
     "output_type": "stream",
     "text": [
      "Number of positive samples: 7\n",
      "Probability of default: 0.2\n"
     ]
    }
   ],
   "source": [
    "dr_more_than_20000 = full_train[(full_train.DebtRatio > 20000)]\n",
    "default_proba(dr_more_than_20000)"
   ]
  },
  {
   "cell_type": "markdown",
   "metadata": {},
   "source": [
    "These samples might be very far from the sample mean DebtRatio, but the probability of default is high compared to the rest of the sample. Keep these for now."
   ]
  },
  {
   "cell_type": "code",
   "execution_count": 19,
   "metadata": {},
   "outputs": [
    {
     "data": {
      "text/plain": [
       "<matplotlib.axes._subplots.AxesSubplot at 0x1173d7588>"
      ]
     },
     "execution_count": 19,
     "metadata": {},
     "output_type": "execute_result"
    },
    {
     "data": {
      "image/png": "[encoded data removed]",
      "text/plain": [
       "<matplotlib.figure.Figure at 0x11736c208>"
      ]
     },
     "metadata": {},
     "output_type": "display_data"
    }
   ],
   "source": [
    "full_train[(full_train.DebtRatio < 40000)].plot(x='DebtRatio', y='SeriousDlqin2yrs', style='o', alpha=0.1)"
   ]
  },
  {
   "cell_type": "code",
   "execution_count": 131,
   "metadata": {},
   "outputs": [
    {
     "name": "stdout",
     "output_type": "stream",
     "text": [
      "Number of positive samples: 0\n",
      "Probability of default: 0.0\n"
     ]
    }
   ],
   "source": [
    "dr_outliers = full_train[(full_train.DebtRatio > 40000)]\n",
    "default_proba(dr_outliers)"
   ]
  },
  {
   "cell_type": "code",
   "execution_count": 22,
   "metadata": {},
   "outputs": [],
   "source": [
    "full_train.drop(index=dr_outliers.index, inplace=True)"
   ]
  },
  {
   "cell_type": "markdown",
   "metadata": {},
   "source": [
    "### 1.3: Other columns\n",
    "\n",
    "Other columns have much smaller standard deviation values, but let's see if any of these have a strong relationship with defaulting."
   ]
  },
  {
   "cell_type": "code",
   "execution_count": 24,
   "metadata": {},
   "outputs": [
    {
     "data": {
      "text/plain": [
       "<matplotlib.axes._subplots.AxesSubplot at 0x117464518>"
      ]
     },
     "execution_count": 24,
     "metadata": {},
     "output_type": "execute_result"
    },
    {
     "data": {
      "image/png": "[encoded data removed]",
      "text/plain": [
       "<matplotlib.figure.Figure at 0x117492828>"
      ]
     },
     "metadata": {},
     "output_type": "display_data"
    }
   ],
   "source": [
    "full_train.plot(x='NumberOfOpenCreditLinesAndLoans', y='SeriousDlqin2yrs', style='o', alpha=0.1)"
   ]
  },
  {
   "cell_type": "code",
   "execution_count": 25,
   "metadata": {},
   "outputs": [
    {
     "data": {
      "text/plain": [
       "<matplotlib.axes._subplots.AxesSubplot at 0x11a9072e8>"
      ]
     },
     "execution_count": 25,
     "metadata": {},
     "output_type": "execute_result"
    },
    {
     "data": {
      "image/png": "[encoded data removed]",
      "text/plain": [
       "<matplotlib.figure.Figure at 0x117351dd8>"
      ]
     },
     "metadata": {},
     "output_type": "display_data"
    }
   ],
   "source": [
    "full_train.plot(x='NumberOfTime30-59DaysPastDueNotWorse', y='SeriousDlqin2yrs', style='o', alpha=0.1)"
   ]
  },
  {
   "cell_type": "code",
   "execution_count": 26,
   "metadata": {},
   "outputs": [
    {
     "data": {
      "text/plain": [
       "<matplotlib.axes._subplots.AxesSubplot at 0x11a907198>"
      ]
     },
     "execution_count": 26,
     "metadata": {},
     "output_type": "execute_result"
    },
    {
     "data": {
      "image/png": "[encoded data removed]",
      "text/plain": [
       "<matplotlib.figure.Figure at 0x1172ed0b8>"
      ]
     },
     "metadata": {},
     "output_type": "display_data"
    }
   ],
   "source": [
    "full_train.plot(x='NumberOfTimes90DaysLate', y='SeriousDlqin2yrs', style='o', alpha=0.1)"
   ]
  },
  {
   "cell_type": "code",
   "execution_count": 27,
   "metadata": {},
   "outputs": [
    {
     "data": {
      "text/plain": [
       "<matplotlib.axes._subplots.AxesSubplot at 0x11a9477f0>"
      ]
     },
     "execution_count": 27,
     "metadata": {},
     "output_type": "execute_result"
    },
    {
     "data": {
      "image/png": "[encoded data removed]",
      "text/plain": [
       "<matplotlib.figure.Figure at 0x1186ab748>"
      ]
     },
     "metadata": {},
     "output_type": "display_data"
    }
   ],
   "source": [
    "full_train.plot(x='NumberRealEstateLoansOrLines', y='SeriousDlqin2yrs', style='o', alpha=0.1)"
   ]
  },
  {
   "cell_type": "code",
   "execution_count": 28,
   "metadata": {},
   "outputs": [
    {
     "data": {
      "text/plain": [
       "<matplotlib.axes._subplots.AxesSubplot at 0x1a24329a58>"
      ]
     },
     "execution_count": 28,
     "metadata": {},
     "output_type": "execute_result"
    },
    {
     "data": {
      "image/png": "[encoded data removed]",
      "text/plain": [
       "<matplotlib.figure.Figure at 0x1a242f0128>"
      ]
     },
     "metadata": {},
     "output_type": "display_data"
    }
   ],
   "source": [
    "full_train.plot(x='NumberOfTime60-89DaysPastDueNotWorse', y='SeriousDlqin2yrs', style='o', alpha=0.1)"
   ]
  },
  {
   "cell_type": "code",
   "execution_count": 29,
   "metadata": {},
   "outputs": [
    {
     "data": {
      "text/plain": [
       "<matplotlib.axes._subplots.AxesSubplot at 0x1a242f0860>"
      ]
     },
     "execution_count": 29,
     "metadata": {},
     "output_type": "execute_result"
    },
    {
     "data": {
      "image/png": "[encoded data removed]",
      "text/plain": [
       "<matplotlib.figure.Figure at 0x117976080>"
      ]
     },
     "metadata": {},
     "output_type": "display_data"
    }
   ],
   "source": [
    "full_train.plot(x='NumberOfDependents', y='SeriousDlqin2yrs', style='o', alpha=0.1)"
   ]
  },
  {
   "cell_type": "markdown",
   "metadata": {},
   "source": [
    "Removing samples with number of dependents > 12 will not have an impact on minority class percentage."
   ]
  },
  {
   "cell_type": "code",
   "execution_count": 30,
   "metadata": {},
   "outputs": [],
   "source": [
    "dep_outliers = full_train[(full_train.NumberOfDependents > 12)]\n",
    "dep_outliers.SeriousDlqin2yrs.value_counts()\n",
    "\n",
    "full_train.drop(index=dep_outliers.index, inplace=True)"
   ]
  },
  {
   "cell_type": "code",
   "execution_count": 31,
   "metadata": {},
   "outputs": [
    {
     "data": {
      "text/html": [
       "<div>\n",
       "<style scoped>\n",
       "    .dataframe tbody tr th:only-of-type {\n",
       "        vertical-align: middle;\n",
       "    }\n",
       "\n",
       "    .dataframe tbody tr th {\n",
       "        vertical-align: top;\n",
       "    }\n",
       "\n",
       "    .dataframe thead th {\n",
       "        text-align: right;\n",
       "    }\n",
       "</style>\n",
       "<table border=\"1\" class=\"dataframe\">\n",
       "  <thead>\n",
       "    <tr style=\"text-align: right;\">\n",
       "      <th></th>\n",
       "      <th>SeriousDlqin2yrs</th>\n",
       "      <th>RevolvingUtilizationOfUnsecuredLines</th>\n",
       "      <th>age</th>\n",
       "      <th>NumberOfTime30-59DaysPastDueNotWorse</th>\n",
       "      <th>DebtRatio</th>\n",
       "      <th>MonthlyIncome</th>\n",
       "      <th>NumberOfOpenCreditLinesAndLoans</th>\n",
       "      <th>NumberOfTimes90DaysLate</th>\n",
       "      <th>NumberRealEstateLoansOrLines</th>\n",
       "      <th>NumberOfTime60-89DaysPastDueNotWorse</th>\n",
       "      <th>NumberOfDependents</th>\n",
       "    </tr>\n",
       "  </thead>\n",
       "  <tbody>\n",
       "    <tr>\n",
       "      <th>count</th>\n",
       "      <td>149741.000000</td>\n",
       "      <td>149741.000000</td>\n",
       "      <td>149741.000000</td>\n",
       "      <td>149741.000000</td>\n",
       "      <td>149741.000000</td>\n",
       "      <td>1.200910e+05</td>\n",
       "      <td>149741.000000</td>\n",
       "      <td>149741.000000</td>\n",
       "      <td>149741.000000</td>\n",
       "      <td>149741.000000</td>\n",
       "      <td>145832.000000</td>\n",
       "    </tr>\n",
       "    <tr>\n",
       "      <th>mean</th>\n",
       "      <td>0.066842</td>\n",
       "      <td>0.322750</td>\n",
       "      <td>52.296946</td>\n",
       "      <td>0.421428</td>\n",
       "      <td>338.800153</td>\n",
       "      <td>6.667829e+03</td>\n",
       "      <td>8.456782</td>\n",
       "      <td>0.266293</td>\n",
       "      <td>1.017724</td>\n",
       "      <td>0.240656</td>\n",
       "      <td>0.757159</td>\n",
       "    </tr>\n",
       "    <tr>\n",
       "      <th>std</th>\n",
       "      <td>0.249749</td>\n",
       "      <td>0.366745</td>\n",
       "      <td>14.772071</td>\n",
       "      <td>4.196326</td>\n",
       "      <td>1100.787102</td>\n",
       "      <td>1.439298e+04</td>\n",
       "      <td>5.147304</td>\n",
       "      <td>4.172833</td>\n",
       "      <td>1.128291</td>\n",
       "      <td>4.158705</td>\n",
       "      <td>1.113632</td>\n",
       "    </tr>\n",
       "    <tr>\n",
       "      <th>min</th>\n",
       "      <td>0.000000</td>\n",
       "      <td>0.000000</td>\n",
       "      <td>0.000000</td>\n",
       "      <td>0.000000</td>\n",
       "      <td>0.000000</td>\n",
       "      <td>0.000000e+00</td>\n",
       "      <td>0.000000</td>\n",
       "      <td>0.000000</td>\n",
       "      <td>0.000000</td>\n",
       "      <td>0.000000</td>\n",
       "      <td>0.000000</td>\n",
       "    </tr>\n",
       "    <tr>\n",
       "      <th>25%</th>\n",
       "      <td>0.000000</td>\n",
       "      <td>0.029785</td>\n",
       "      <td>41.000000</td>\n",
       "      <td>0.000000</td>\n",
       "      <td>0.174951</td>\n",
       "      <td>3.400000e+03</td>\n",
       "      <td>5.000000</td>\n",
       "      <td>0.000000</td>\n",
       "      <td>0.000000</td>\n",
       "      <td>0.000000</td>\n",
       "      <td>0.000000</td>\n",
       "    </tr>\n",
       "    <tr>\n",
       "      <th>50%</th>\n",
       "      <td>0.000000</td>\n",
       "      <td>0.153535</td>\n",
       "      <td>52.000000</td>\n",
       "      <td>0.000000</td>\n",
       "      <td>0.366448</td>\n",
       "      <td>5.400000e+03</td>\n",
       "      <td>8.000000</td>\n",
       "      <td>0.000000</td>\n",
       "      <td>1.000000</td>\n",
       "      <td>0.000000</td>\n",
       "      <td>0.000000</td>\n",
       "    </tr>\n",
       "    <tr>\n",
       "      <th>75%</th>\n",
       "      <td>0.000000</td>\n",
       "      <td>0.555897</td>\n",
       "      <td>63.000000</td>\n",
       "      <td>0.000000</td>\n",
       "      <td>0.866596</td>\n",
       "      <td>8.241000e+03</td>\n",
       "      <td>11.000000</td>\n",
       "      <td>0.000000</td>\n",
       "      <td>2.000000</td>\n",
       "      <td>0.000000</td>\n",
       "      <td>1.000000</td>\n",
       "    </tr>\n",
       "    <tr>\n",
       "      <th>max</th>\n",
       "      <td>1.000000</td>\n",
       "      <td>8.851852</td>\n",
       "      <td>109.000000</td>\n",
       "      <td>98.000000</td>\n",
       "      <td>38793.000000</td>\n",
       "      <td>3.008750e+06</td>\n",
       "      <td>58.000000</td>\n",
       "      <td>98.000000</td>\n",
       "      <td>54.000000</td>\n",
       "      <td>98.000000</td>\n",
       "      <td>10.000000</td>\n",
       "    </tr>\n",
       "  </tbody>\n",
       "</table>\n",
       "</div>"
      ],
      "text/plain": [
       "       SeriousDlqin2yrs  RevolvingUtilizationOfUnsecuredLines            age  \\\n",
       "count     149741.000000                         149741.000000  149741.000000   \n",
       "mean           0.066842                              0.322750      52.296946   \n",
       "std            0.249749                              0.366745      14.772071   \n",
       "min            0.000000                              0.000000       0.000000   \n",
       "25%            0.000000                              0.029785      41.000000   \n",
       "50%            0.000000                              0.153535      52.000000   \n",
       "75%            0.000000                              0.555897      63.000000   \n",
       "max            1.000000                              8.851852     109.000000   \n",
       "\n",
       "       NumberOfTime30-59DaysPastDueNotWorse      DebtRatio  MonthlyIncome  \\\n",
       "count                         149741.000000  149741.000000   1.200910e+05   \n",
       "mean                               0.421428     338.800153   6.667829e+03   \n",
       "std                                4.196326    1100.787102   1.439298e+04   \n",
       "min                                0.000000       0.000000   0.000000e+00   \n",
       "25%                                0.000000       0.174951   3.400000e+03   \n",
       "50%                                0.000000       0.366448   5.400000e+03   \n",
       "75%                                0.000000       0.866596   8.241000e+03   \n",
       "max                               98.000000   38793.000000   3.008750e+06   \n",
       "\n",
       "       NumberOfOpenCreditLinesAndLoans  NumberOfTimes90DaysLate  \\\n",
       "count                    149741.000000            149741.000000   \n",
       "mean                          8.456782                 0.266293   \n",
       "std                           5.147304                 4.172833   \n",
       "min                           0.000000                 0.000000   \n",
       "25%                           5.000000                 0.000000   \n",
       "50%                           8.000000                 0.000000   \n",
       "75%                          11.000000                 0.000000   \n",
       "max                          58.000000                98.000000   \n",
       "\n",
       "       NumberRealEstateLoansOrLines  NumberOfTime60-89DaysPastDueNotWorse  \\\n",
       "count                 149741.000000                         149741.000000   \n",
       "mean                       1.017724                              0.240656   \n",
       "std                        1.128291                              4.158705   \n",
       "min                        0.000000                              0.000000   \n",
       "25%                        0.000000                              0.000000   \n",
       "50%                        1.000000                              0.000000   \n",
       "75%                        2.000000                              0.000000   \n",
       "max                       54.000000                             98.000000   \n",
       "\n",
       "       NumberOfDependents  \n",
       "count       145832.000000  \n",
       "mean             0.757159  \n",
       "std              1.113632  \n",
       "min              0.000000  \n",
       "25%              0.000000  \n",
       "50%              0.000000  \n",
       "75%              1.000000  \n",
       "max             10.000000  "
      ]
     },
     "execution_count": 31,
     "metadata": {},
     "output_type": "execute_result"
    }
   ],
   "source": [
    "full_train.describe()"
   ]
  },
  {
   "cell_type": "code",
   "execution_count": 132,
   "metadata": {},
   "outputs": [
    {
     "name": "stdout",
     "output_type": "stream",
     "text": [
      "Number of positive samples: 10026\n",
      "Probability of default: 0.072\n"
     ]
    }
   ],
   "source": [
    "default_proba(full_train)"
   ]
  },
  {
   "cell_type": "markdown",
   "metadata": {},
   "source": [
    "As a sanity check, probability of default hasn't changed after removing the outliers.\n",
    "\n",
    "### 1.4: Should I drop the missing values in the MonthlyIncome predictor?\n",
    "\n"
   ]
  },
  {
   "cell_type": "code",
   "execution_count": 135,
   "metadata": {},
   "outputs": [
    {
     "name": "stdout",
     "output_type": "stream",
     "text": [
      "Number of positive samples: 8357\n",
      "Probability of default: 0.075\n"
     ]
    }
   ],
   "source": [
    "has_income_value = full_train[(pd.notnull(full_train.MonthlyIncome))]\n",
    "default_proba(has_income_value)"
   ]
  },
  {
   "cell_type": "code",
   "execution_count": 137,
   "metadata": {},
   "outputs": [
    {
     "name": "stdout",
     "output_type": "stream",
     "text": [
      "Number of positive samples: 1669\n",
      "Probability of default: 0.059\n"
     ]
    }
   ],
   "source": [
    "no_income_value = full_train[(pd.isnull(full_train.MonthlyIncome))]\n",
    "default_proba(no_income_value)"
   ]
  },
  {
   "cell_type": "markdown",
   "metadata": {},
   "source": [
    "#### Conclusion\n",
    "\n",
    "Dropping these values won't make an impact on the minority class percentage, but that's still dropping ~10% of our minority class samples. I've decided not to drop these for now, but if I had more time I would compare results from a training data set before and after dropping."
   ]
  },
  {
   "cell_type": "markdown",
   "metadata": {},
   "source": [
    "### 1.5: Check for collinearity"
   ]
  },
  {
   "cell_type": "code",
   "execution_count": 38,
   "metadata": {},
   "outputs": [
    {
     "data": {
      "text/plain": [
       "<matplotlib.axes._subplots.AxesSubplot at 0x117b4da20>"
      ]
     },
     "execution_count": 38,
     "metadata": {},
     "output_type": "execute_result"
    },
    {
     "data": {
      "image/png": "[encoded data removed]",
      "text/plain": [
       "<matplotlib.figure.Figure at 0x117b4d1d0>"
      ]
     },
     "metadata": {},
     "output_type": "display_data"
    }
   ],
   "source": [
    "plt.figure(figsize=(12, 9))\n",
    "corr_mat = full_train.corr()\n",
    "sns.heatmap(corr_mat, annot=True)"
   ]
  },
  {
   "cell_type": "markdown",
   "metadata": {},
   "source": [
    "Strong correlation between Number of times 30-59 days due not worst, and Number of times 90 days late\n",
    "\n",
    "\n",
    "Which one to drop would probably depend on contextual knowledge. \n",
    "- What sort of policies does a bank have in place to handle groups who are 30-59 days late for payment, and prevent them from falling into the next tier (90 days late)\n",
    "- Is it in the bank's interest to help people like that? - balance between profits earned from loan interest rates, and the ability of people in these groups to repay \n",
    "\n",
    "Those who are 90 days late were previously in the 30-59 days late group, so let's drop the 90 days predictor instead"
   ]
  },
  {
   "cell_type": "markdown",
   "metadata": {},
   "source": [
    "### 1.6: Bin monthly income \n",
    "\n",
    "Initial plan was to train a linear regression model on other predictor values, check R^2 value on a hold-out set, and predict on samples with missing monthly income values.\n",
    "\n",
    "Such a model gives us the approx monthly income for each sample. \n",
    "However, looking at the 2 plots below, most people who default fall in the more middle-class bracket of less than 20k a month. \n",
    "This indicates that its more important to know which income bracket people fall into when looking at probability of default.\n",
    "\n",
    "After deciding on how to bin monthly income, we will then have monthly income as an ordinal categorical variable."
   ]
  },
  {
   "cell_type": "code",
   "execution_count": 39,
   "metadata": {},
   "outputs": [
    {
     "data": {
      "text/plain": [
       "<matplotlib.axes._subplots.AxesSubplot at 0x1a2c507e48>"
      ]
     },
     "execution_count": 39,
     "metadata": {},
     "output_type": "execute_result"
    },
    {
     "data": {
      "image/png": "[encoded data removed]",
      "text/plain": [
       "<matplotlib.figure.Figure at 0x1a2c5077f0>"
      ]
     },
     "metadata": {},
     "output_type": "display_data"
    }
   ],
   "source": [
    "# interpolate missing monthly income values using other columns as predictors, after filtering outliers first\n",
    "\n",
    "full_train.plot(x='MonthlyIncome', y='SeriousDlqin2yrs', style='o', alpha=0.1)"
   ]
  },
  {
   "cell_type": "code",
   "execution_count": 40,
   "metadata": {},
   "outputs": [
    {
     "data": {
      "text/plain": [
       "(array([1431., 3183., 1964.,  885.,  422.,  185.,   99.,   51.,   37.,\n",
       "          17.]),\n",
       " array([    0.,  2470.,  4940.,  7410.,  9880., 12350., 14820., 17290.,\n",
       "        19760., 22230., 24700.]),\n",
       " <a list of 10 Patch objects>)"
      ]
     },
     "execution_count": 40,
     "metadata": {},
     "output_type": "execute_result"
    },
    {
     "data": {
      "image/png": "[encoded data removed]",
      "text/plain": [
       "<matplotlib.figure.Figure at 0x1a2c521b70>"
      ]
     },
     "metadata": {},
     "output_type": "display_data"
    }
   ],
   "source": [
    "lower_income = full_train[(full_train.MonthlyIncome < 25000)]\n",
    "\n",
    "plt.hist(lower_income[(lower_income.SeriousDlqin2yrs == 0)].MonthlyIncome, alpha= 0.5)\n",
    "plt.hist(lower_income[(lower_income.SeriousDlqin2yrs == 1)].MonthlyIncome, alpha= 0.5)"
   ]
  },
  {
   "cell_type": "markdown",
   "metadata": {},
   "source": [
    "Some potentially suitable bins to place people into: 0 to 5000 (exclusive), 5000 to 10000 exclusive, 10,000 to 15,000 exclusive, and the rest of the ultra-rich."
   ]
  },
  {
   "cell_type": "code",
   "execution_count": 41,
   "metadata": {},
   "outputs": [],
   "source": [
    "income_data = full_train.copy()\n",
    "income_data.drop(columns=['NumberOfTimes90DaysLate', 'SeriousDlqin2yrs'], inplace=True)"
   ]
  },
  {
   "cell_type": "code",
   "execution_count": 42,
   "metadata": {},
   "outputs": [
    {
     "data": {
      "text/plain": [
       "0    48408\n",
       "1     4643\n",
       "Name: SeriousDlqin2yrs, dtype: int64"
      ]
     },
     "execution_count": 42,
     "metadata": {},
     "output_type": "execute_result"
    }
   ],
   "source": [
    "full_train[(full_train.MonthlyIncome < 5000)].SeriousDlqin2yrs.value_counts()\n",
    "\n",
    "# 9.5% of people in this bracket default"
   ]
  },
  {
   "cell_type": "code",
   "execution_count": 43,
   "metadata": {},
   "outputs": [
    {
     "data": {
      "text/plain": [
       "0    44461\n",
       "1     2843\n",
       "Name: SeriousDlqin2yrs, dtype: int64"
      ]
     },
     "execution_count": 43,
     "metadata": {},
     "output_type": "execute_result"
    }
   ],
   "source": [
    "middle1_data = full_train[(full_train.MonthlyIncome >= 5000) & (full_train.MonthlyIncome < 10000)]\n",
    "middle1_data.SeriousDlqin2yrs.value_counts()\n",
    "\n",
    "# ~6.4% of people in this bracket default"
   ]
  },
  {
   "cell_type": "code",
   "execution_count": 44,
   "metadata": {},
   "outputs": [
    {
     "data": {
      "text/plain": [
       "0    16679\n",
       "1      735\n",
       "Name: SeriousDlqin2yrs, dtype: int64"
      ]
     },
     "execution_count": 44,
     "metadata": {},
     "output_type": "execute_result"
    }
   ],
   "source": [
    "middle2_data = full_train[(full_train.MonthlyIncome >= 10000) & (full_train.MonthlyIncome < 20000)]\n",
    "middle2_data.SeriousDlqin2yrs.value_counts()\n",
    "\n",
    "# ~4.4% of people in this bracket default"
   ]
  },
  {
   "cell_type": "code",
   "execution_count": 45,
   "metadata": {},
   "outputs": [
    {
     "data": {
      "text/plain": [
       "0    2201\n",
       "1     121\n",
       "Name: SeriousDlqin2yrs, dtype: int64"
      ]
     },
     "execution_count": 45,
     "metadata": {},
     "output_type": "execute_result"
    }
   ],
   "source": [
    "rich_data = full_train[(full_train.MonthlyIncome >= 20000)]\n",
    "rich_data.SeriousDlqin2yrs.value_counts()\n",
    "\n",
    "# ~5.4% of people in this bracket default"
   ]
  },
  {
   "cell_type": "code",
   "execution_count": 46,
   "metadata": {},
   "outputs": [],
   "source": [
    "def lower(income): return 0 <= income < 5000\n",
    "def middle(income): return 5000 <= income < 20000\n",
    "def rich(income): return income >= 20000\n",
    "\n",
    "def income_category(income):\n",
    "    if lower(income):\n",
    "        return 1\n",
    "    elif middle(income):\n",
    "        return 2\n",
    "    else:\n",
    "        return 3\n",
    "    \n",
    "test_size = 0.3\n",
    "random_seed = 47"
   ]
  },
  {
   "cell_type": "markdown",
   "metadata": {},
   "source": [
    "### 1.7: Predict monthly income category for samples with missing value"
   ]
  },
  {
   "cell_type": "code",
   "execution_count": 47,
   "metadata": {},
   "outputs": [],
   "source": [
    "categorical_income = [income_category(income) for income in income_data.MonthlyIncome]\n",
    "\n",
    "X = income_data.drop(columns=['MonthlyIncome', 'NumberOfDependents'])\n",
    "y = categorical_income"
   ]
  },
  {
   "cell_type": "code",
   "execution_count": 48,
   "metadata": {},
   "outputs": [],
   "source": [
    "from sklearn.model_selection import train_test_split\n",
    "\n",
    "X_train, X_test, y_train, y_test = train_test_split(X, y, test_size = test_size, \n",
    "                                                    random_state=random_seed)"
   ]
  },
  {
   "cell_type": "code",
   "execution_count": 49,
   "metadata": {},
   "outputs": [
    {
     "data": {
      "text/plain": [
       "LogisticRegression(C=1.0, class_weight=None, dual=False, fit_intercept=True,\n",
       "          intercept_scaling=1, max_iter=100, multi_class='ovr', n_jobs=1,\n",
       "          penalty='l2', random_state=47, solver='liblinear', tol=0.0001,\n",
       "          verbose=0, warm_start=False)"
      ]
     },
     "execution_count": 49,
     "metadata": {},
     "output_type": "execute_result"
    }
   ],
   "source": [
    "from sklearn.linear_model import LogisticRegression\n",
    "\n",
    "logreg = LogisticRegression(penalty='l2', random_state=random_seed)\n",
    "logreg.fit(X_train, y_train)"
   ]
  },
  {
   "cell_type": "code",
   "execution_count": 50,
   "metadata": {},
   "outputs": [
    {
     "data": {
      "text/plain": [
       "0.6957583621133775"
      ]
     },
     "execution_count": 50,
     "metadata": {},
     "output_type": "execute_result"
    }
   ],
   "source": [
    "logreg.score(X_train, y_train)"
   ]
  },
  {
   "cell_type": "code",
   "execution_count": 51,
   "metadata": {},
   "outputs": [],
   "source": [
    "y_pred = logreg.predict(X_test)"
   ]
  },
  {
   "cell_type": "code",
   "execution_count": 52,
   "metadata": {},
   "outputs": [
    {
     "name": "stdout",
     "output_type": "stream",
     "text": [
      "             precision    recall  f1-score   support\n",
      "\n",
      "          1       0.60      0.58      0.59     16020\n",
      "          2       0.69      0.81      0.75     19231\n",
      "          3       0.93      0.66      0.77      9672\n",
      "\n",
      "avg / total       0.71      0.70      0.70     44923\n",
      "\n"
     ]
    }
   ],
   "source": [
    "from sklearn.metrics import classification_report\n",
    "\n",
    "print(classification_report(y_test, y_pred))"
   ]
  },
  {
   "cell_type": "code",
   "execution_count": 53,
   "metadata": {},
   "outputs": [],
   "source": [
    "samples_with_missing_income = full_train[(pd.isnull(full_train.MonthlyIncome))]\n",
    "process_samples = samples_with_missing_income.drop(columns=['MonthlyIncome', 'NumberOfDependents',\n",
    "                                                           'NumberOfTimes90DaysLate', 'SeriousDlqin2yrs'])\n",
    "pred_income_category = logreg.predict(process_samples)"
   ]
  },
  {
   "cell_type": "code",
   "execution_count": 54,
   "metadata": {},
   "outputs": [
    {
     "name": "stderr",
     "output_type": "stream",
     "text": [
      "/Users/cjiahui/anaconda3/lib/python3.6/site-packages/ipykernel_launcher.py:1: SettingWithCopyWarning: \n",
      "A value is trying to be set on a copy of a slice from a DataFrame.\n",
      "Try using .loc[row_indexer,col_indexer] = value instead\n",
      "\n",
      "See the caveats in the documentation: http://pandas.pydata.org/pandas-docs/stable/indexing.html#indexing-view-versus-copy\n",
      "  \"\"\"Entry point for launching an IPython kernel.\n"
     ]
    }
   ],
   "source": [
    "samples_with_missing_income['income_category'] = pred_income_category"
   ]
  },
  {
   "cell_type": "code",
   "execution_count": 55,
   "metadata": {},
   "outputs": [
    {
     "name": "stderr",
     "output_type": "stream",
     "text": [
      "/Users/cjiahui/anaconda3/lib/python3.6/site-packages/ipykernel_launcher.py:2: SettingWithCopyWarning: \n",
      "A value is trying to be set on a copy of a slice from a DataFrame.\n",
      "Try using .loc[row_indexer,col_indexer] = value instead\n",
      "\n",
      "See the caveats in the documentation: http://pandas.pydata.org/pandas-docs/stable/indexing.html#indexing-view-versus-copy\n",
      "  \n"
     ]
    }
   ],
   "source": [
    "samples_with_income = full_train[(pd.notnull(full_train.MonthlyIncome))]\n",
    "samples_with_income['income_category'] = [income_category(income) for income in samples_with_income.MonthlyIncome]"
   ]
  },
  {
   "cell_type": "code",
   "execution_count": 56,
   "metadata": {},
   "outputs": [
    {
     "data": {
      "text/html": [
       "<div>\n",
       "<style scoped>\n",
       "    .dataframe tbody tr th:only-of-type {\n",
       "        vertical-align: middle;\n",
       "    }\n",
       "\n",
       "    .dataframe tbody tr th {\n",
       "        vertical-align: top;\n",
       "    }\n",
       "\n",
       "    .dataframe thead th {\n",
       "        text-align: right;\n",
       "    }\n",
       "</style>\n",
       "<table border=\"1\" class=\"dataframe\">\n",
       "  <thead>\n",
       "    <tr style=\"text-align: right;\">\n",
       "      <th></th>\n",
       "      <th>SeriousDlqin2yrs</th>\n",
       "      <th>RevolvingUtilizationOfUnsecuredLines</th>\n",
       "      <th>age</th>\n",
       "      <th>NumberOfTime30-59DaysPastDueNotWorse</th>\n",
       "      <th>DebtRatio</th>\n",
       "      <th>MonthlyIncome</th>\n",
       "      <th>NumberOfOpenCreditLinesAndLoans</th>\n",
       "      <th>NumberOfTimes90DaysLate</th>\n",
       "      <th>NumberRealEstateLoansOrLines</th>\n",
       "      <th>NumberOfTime60-89DaysPastDueNotWorse</th>\n",
       "      <th>NumberOfDependents</th>\n",
       "      <th>income_category</th>\n",
       "    </tr>\n",
       "  </thead>\n",
       "  <tbody>\n",
       "    <tr>\n",
       "      <th>6</th>\n",
       "      <td>0</td>\n",
       "      <td>0.305682</td>\n",
       "      <td>57</td>\n",
       "      <td>0</td>\n",
       "      <td>5710.0</td>\n",
       "      <td>NaN</td>\n",
       "      <td>8</td>\n",
       "      <td>0</td>\n",
       "      <td>3</td>\n",
       "      <td>0</td>\n",
       "      <td>0.0</td>\n",
       "      <td>3</td>\n",
       "    </tr>\n",
       "    <tr>\n",
       "      <th>8</th>\n",
       "      <td>0</td>\n",
       "      <td>0.116951</td>\n",
       "      <td>27</td>\n",
       "      <td>0</td>\n",
       "      <td>46.0</td>\n",
       "      <td>NaN</td>\n",
       "      <td>2</td>\n",
       "      <td>0</td>\n",
       "      <td>0</td>\n",
       "      <td>0</td>\n",
       "      <td>NaN</td>\n",
       "      <td>1</td>\n",
       "    </tr>\n",
       "    <tr>\n",
       "      <th>16</th>\n",
       "      <td>0</td>\n",
       "      <td>0.061086</td>\n",
       "      <td>78</td>\n",
       "      <td>0</td>\n",
       "      <td>2058.0</td>\n",
       "      <td>NaN</td>\n",
       "      <td>10</td>\n",
       "      <td>0</td>\n",
       "      <td>2</td>\n",
       "      <td>0</td>\n",
       "      <td>0.0</td>\n",
       "      <td>3</td>\n",
       "    </tr>\n",
       "    <tr>\n",
       "      <th>32</th>\n",
       "      <td>0</td>\n",
       "      <td>0.083418</td>\n",
       "      <td>62</td>\n",
       "      <td>0</td>\n",
       "      <td>977.0</td>\n",
       "      <td>NaN</td>\n",
       "      <td>6</td>\n",
       "      <td>0</td>\n",
       "      <td>1</td>\n",
       "      <td>0</td>\n",
       "      <td>0.0</td>\n",
       "      <td>3</td>\n",
       "    </tr>\n",
       "    <tr>\n",
       "      <th>41</th>\n",
       "      <td>0</td>\n",
       "      <td>0.072898</td>\n",
       "      <td>81</td>\n",
       "      <td>0</td>\n",
       "      <td>75.0</td>\n",
       "      <td>NaN</td>\n",
       "      <td>7</td>\n",
       "      <td>0</td>\n",
       "      <td>0</td>\n",
       "      <td>0</td>\n",
       "      <td>0.0</td>\n",
       "      <td>1</td>\n",
       "    </tr>\n",
       "  </tbody>\n",
       "</table>\n",
       "</div>"
      ],
      "text/plain": [
       "    SeriousDlqin2yrs  RevolvingUtilizationOfUnsecuredLines  age  \\\n",
       "6                  0                              0.305682   57   \n",
       "8                  0                              0.116951   27   \n",
       "16                 0                              0.061086   78   \n",
       "32                 0                              0.083418   62   \n",
       "41                 0                              0.072898   81   \n",
       "\n",
       "    NumberOfTime30-59DaysPastDueNotWorse  DebtRatio  MonthlyIncome  \\\n",
       "6                                      0     5710.0            NaN   \n",
       "8                                      0       46.0            NaN   \n",
       "16                                     0     2058.0            NaN   \n",
       "32                                     0      977.0            NaN   \n",
       "41                                     0       75.0            NaN   \n",
       "\n",
       "    NumberOfOpenCreditLinesAndLoans  NumberOfTimes90DaysLate  \\\n",
       "6                                 8                        0   \n",
       "8                                 2                        0   \n",
       "16                               10                        0   \n",
       "32                                6                        0   \n",
       "41                                7                        0   \n",
       "\n",
       "    NumberRealEstateLoansOrLines  NumberOfTime60-89DaysPastDueNotWorse  \\\n",
       "6                              3                                     0   \n",
       "8                              0                                     0   \n",
       "16                             2                                     0   \n",
       "32                             1                                     0   \n",
       "41                             0                                     0   \n",
       "\n",
       "    NumberOfDependents  income_category  \n",
       "6                  0.0                3  \n",
       "8                  NaN                1  \n",
       "16                 0.0                3  \n",
       "32                 0.0                3  \n",
       "41                 0.0                1  "
      ]
     },
     "execution_count": 56,
     "metadata": {},
     "output_type": "execute_result"
    }
   ],
   "source": [
    "training = pd.concat([samples_with_missing_income, samples_with_income])\n",
    "training.head()"
   ]
  },
  {
   "cell_type": "code",
   "execution_count": 57,
   "metadata": {},
   "outputs": [
    {
     "data": {
      "text/plain": [
       "(array([5264.,    0.,    0.,    0.,    0., 3579.,    0.,    0.,    0.,\n",
       "        1166.]),\n",
       " array([1. , 1.2, 1.4, 1.6, 1.8, 2. , 2.2, 2.4, 2.6, 2.8, 3. ]),\n",
       " <a list of 10 Patch objects>)"
      ]
     },
     "execution_count": 57,
     "metadata": {},
     "output_type": "execute_result"
    },
    {
     "data": {
      "image/png": "[encoded data removed]",
      "text/plain": [
       "<matplotlib.figure.Figure at 0x1a2db56f28>"
      ]
     },
     "metadata": {},
     "output_type": "display_data"
    }
   ],
   "source": [
    "plt.hist(training[(training.SeriousDlqin2yrs == 0)].income_category, alpha= 0.5)\n",
    "plt.hist(training[(training.SeriousDlqin2yrs == 1)].income_category, alpha= 0.5)"
   ]
  },
  {
   "cell_type": "code",
   "execution_count": 58,
   "metadata": {},
   "outputs": [
    {
     "data": {
      "text/plain": [
       "(array([4643.,    0.,    0.,    0.,    0., 3578.,    0.,    0.,    0.,\n",
       "         121.]),\n",
       " array([1. , 1.2, 1.4, 1.6, 1.8, 2. , 2.2, 2.4, 2.6, 2.8, 3. ]),\n",
       " <a list of 10 Patch objects>)"
      ]
     },
     "execution_count": 58,
     "metadata": {},
     "output_type": "execute_result"
    },
    {
     "data": {
      "image/png": "[encoded data removed]",
      "text/plain": [
       "<matplotlib.figure.Figure at 0x1177430f0>"
      ]
     },
     "metadata": {},
     "output_type": "display_data"
    }
   ],
   "source": [
    "plt.hist(samples_with_income[(samples_with_income.SeriousDlqin2yrs == 0)].income_category, alpha= 0.5)\n",
    "plt.hist(samples_with_income[(samples_with_income.SeriousDlqin2yrs == 1)].income_category, alpha= 0.5)"
   ]
  },
  {
   "cell_type": "markdown",
   "metadata": {},
   "source": [
    "Distributions between the two look roughly similar although there are more defaults in the income category 3 bin. \n",
    "\n",
    "To improve this in the future, one could apply a Smirnov test here to roughly check how similar the cumulative dist functions are across the categories for the positive class."
   ]
  },
  {
   "cell_type": "code",
   "execution_count": 59,
   "metadata": {},
   "outputs": [
    {
     "name": "stdout",
     "output_type": "stream",
     "text": [
      "<class 'pandas.core.frame.DataFrame'>\n",
      "Int64Index: 149741 entries, 6 to 149999\n",
      "Data columns (total 12 columns):\n",
      "SeriousDlqin2yrs                        149741 non-null int64\n",
      "RevolvingUtilizationOfUnsecuredLines    149741 non-null float64\n",
      "age                                     149741 non-null int64\n",
      "NumberOfTime30-59DaysPastDueNotWorse    149741 non-null int64\n",
      "DebtRatio                               149741 non-null float64\n",
      "MonthlyIncome                           120091 non-null float64\n",
      "NumberOfOpenCreditLinesAndLoans         149741 non-null int64\n",
      "NumberOfTimes90DaysLate                 149741 non-null int64\n",
      "NumberRealEstateLoansOrLines            149741 non-null int64\n",
      "NumberOfTime60-89DaysPastDueNotWorse    149741 non-null int64\n",
      "NumberOfDependents                      145832 non-null float64\n",
      "income_category                         149741 non-null int64\n",
      "dtypes: float64(4), int64(8)\n",
      "memory usage: 14.9 MB\n"
     ]
    }
   ],
   "source": [
    "training.info()"
   ]
  },
  {
   "cell_type": "code",
   "execution_count": 60,
   "metadata": {},
   "outputs": [
    {
     "data": {
      "text/plain": [
       "(array([5.086e+03, 1.931e+03, 1.582e+03, 8.360e+02, 0.000e+00, 2.960e+02,\n",
       "        6.800e+01, 2.400e+01, 5.000e+00, 2.000e+00]),\n",
       " array([0. , 0.8, 1.6, 2.4, 3.2, 4. , 4.8, 5.6, 6.4, 7.2, 8. ]),\n",
       " <a list of 10 Patch objects>)"
      ]
     },
     "execution_count": 60,
     "metadata": {},
     "output_type": "execute_result"
    },
    {
     "data": {
      "image/png": "[encoded data removed]",
      "text/plain": [
       "<matplotlib.figure.Figure at 0x1a30470d68>"
      ]
     },
     "metadata": {},
     "output_type": "display_data"
    }
   ],
   "source": [
    "data_with_dependents = training.copy()\n",
    "data_with_dependents.dropna(subset=['NumberOfDependents'], inplace=True)\n",
    "\n",
    "plt.hist(data_with_dependents[(data_with_dependents.SeriousDlqin2yrs == 0)].NumberOfDependents, alpha= 0.5)\n",
    "plt.hist(data_with_dependents[(data_with_dependents.SeriousDlqin2yrs == 1)].NumberOfDependents, alpha= 0.5)"
   ]
  },
  {
   "cell_type": "code",
   "execution_count": 61,
   "metadata": {},
   "outputs": [
    {
     "data": {
      "text/plain": [
       "0    3730\n",
       "1     179\n",
       "Name: SeriousDlqin2yrs, dtype: int64"
      ]
     },
     "execution_count": 61,
     "metadata": {},
     "output_type": "execute_result"
    }
   ],
   "source": [
    "training[(pd.isnull(training.NumberOfDependents))].SeriousDlqin2yrs.value_counts()"
   ]
  },
  {
   "cell_type": "markdown",
   "metadata": {},
   "source": [
    "Instead of dropping samples where number of dependents is missing, let's assume that its 0 since its left blank."
   ]
  },
  {
   "cell_type": "code",
   "execution_count": 62,
   "metadata": {},
   "outputs": [],
   "source": [
    "training['NumberOfDependentsFull'] = [no if pd.notnull(no) else 0. for no in training.NumberOfDependents]"
   ]
  },
  {
   "cell_type": "markdown",
   "metadata": {},
   "source": [
    "### 1.8: Quick check"
   ]
  },
  {
   "cell_type": "code",
   "execution_count": 85,
   "metadata": {},
   "outputs": [
    {
     "name": "stdout",
     "output_type": "stream",
     "text": [
      "-----RevolvingUtilizationOfUnsecuredLines------\n"
     ]
    },
    {
     "data": {
      "image/png": "[encoded data removed]",
      "text/plain": [
       "<matplotlib.figure.Figure at 0x1a398fbe48>"
      ]
     },
     "metadata": {},
     "output_type": "display_data"
    },
    {
     "name": "stdout",
     "output_type": "stream",
     "text": [
      "-----age------\n"
     ]
    },
    {
     "data": {
      "image/png": "[encoded data removed]",
      "text/plain": [
       "<matplotlib.figure.Figure at 0x1a395fc2b0>"
      ]
     },
     "metadata": {},
     "output_type": "display_data"
    },
    {
     "name": "stdout",
     "output_type": "stream",
     "text": [
      "-----NumberOfTime30-59DaysPastDueNotWorse------\n"
     ]
    },
    {
     "data": {
      "image/png": "[encoded data removed]",
      "text/plain": [
       "<matplotlib.figure.Figure at 0x1a3950da58>"
      ]
     },
     "metadata": {},
     "output_type": "display_data"
    },
    {
     "name": "stdout",
     "output_type": "stream",
     "text": [
      "-----DebtRatio------\n"
     ]
    },
    {
     "data": {
      "image/png": "[encoded data removed]",
      "text/plain": [
       "<matplotlib.figure.Figure at 0x1c475c82b0>"
      ]
     },
     "metadata": {},
     "output_type": "display_data"
    },
    {
     "name": "stdout",
     "output_type": "stream",
     "text": [
      "-----NumberOfOpenCreditLinesAndLoans------\n"
     ]
    },
    {
     "data": {
      "image/png": "[encoded data removed]",
      "text/plain": [
       "<matplotlib.figure.Figure at 0x1c47329ba8>"
      ]
     },
     "metadata": {},
     "output_type": "display_data"
    },
    {
     "name": "stdout",
     "output_type": "stream",
     "text": [
      "-----NumberOfTimes90DaysLate------\n"
     ]
    },
    {
     "data": {
      "image/png": "[encoded data removed]",
      "text/plain": [
       "<matplotlib.figure.Figure at 0x1c48b5dd68>"
      ]
     },
     "metadata": {},
     "output_type": "display_data"
    },
    {
     "name": "stdout",
     "output_type": "stream",
     "text": [
      "-----NumberRealEstateLoansOrLines------\n"
     ]
    },
    {
     "data": {
      "image/png": "[encoded data removed]",
      "text/plain": [
       "<matplotlib.figure.Figure at 0x1c48b33400>"
      ]
     },
     "metadata": {},
     "output_type": "display_data"
    },
    {
     "name": "stdout",
     "output_type": "stream",
     "text": [
      "-----NumberOfTime60-89DaysPastDueNotWorse------\n"
     ]
    },
    {
     "data": {
      "image/png": "[encoded data removed]",
      "text/plain": [
       "<matplotlib.figure.Figure at 0x1c48b5df28>"
      ]
     },
     "metadata": {},
     "output_type": "display_data"
    },
    {
     "name": "stdout",
     "output_type": "stream",
     "text": [
      "-----income_category------\n"
     ]
    },
    {
     "data": {
      "image/png": "[encoded data removed]",
      "text/plain": [
       "<matplotlib.figure.Figure at 0x1a391ad8d0>"
      ]
     },
     "metadata": {},
     "output_type": "display_data"
    },
    {
     "name": "stdout",
     "output_type": "stream",
     "text": [
      "-----NumberOfDependentsFull------\n"
     ]
    },
    {
     "data": {
      "image/png": "[encoded data removed]",
      "text/plain": [
       "<matplotlib.figure.Figure at 0x1a3853c710>"
      ]
     },
     "metadata": {},
     "output_type": "display_data"
    }
   ],
   "source": [
    "ignore = {'MonthlyIncome', 'NumberOfDependents', 'SeriousDlqin2yrs'}\n",
    "\n",
    "for col in training:\n",
    "    \n",
    "    if col in ignore:\n",
    "        continue\n",
    "    \n",
    "    print(f\"-----{col}------\")\n",
    "    sns.boxplot(data=training, x='SeriousDlqin2yrs', y=col)\n",
    "    plt.show()"
   ]
  },
  {
   "cell_type": "markdown",
   "metadata": {},
   "source": [
    "### Preparation of training data for predicting default probability complete\n",
    "\n",
    "Summary of above steps:\n",
    "\n",
    "- MonthlyIncome values transformed into an ordinal variable (1 to 3 in ascending order of 'wealthiness')\n",
    "- missing MonthlyIncome values predicted by a LogisticRegression model\n",
    "- missing values in number of dependents mapped to 0 as an assumption\n",
    "- removed outliers from DebtRatio and RevolvingUtilizationOfUnsecuredLines\n",
    "\n",
    "\n",
    "## 2: Training models to predict default probability"
   ]
  },
  {
   "cell_type": "code",
   "execution_count": 63,
   "metadata": {},
   "outputs": [
    {
     "data": {
      "text/html": [
       "<div>\n",
       "<style scoped>\n",
       "    .dataframe tbody tr th:only-of-type {\n",
       "        vertical-align: middle;\n",
       "    }\n",
       "\n",
       "    .dataframe tbody tr th {\n",
       "        vertical-align: top;\n",
       "    }\n",
       "\n",
       "    .dataframe thead th {\n",
       "        text-align: right;\n",
       "    }\n",
       "</style>\n",
       "<table border=\"1\" class=\"dataframe\">\n",
       "  <thead>\n",
       "    <tr style=\"text-align: right;\">\n",
       "      <th></th>\n",
       "      <th>SeriousDlqin2yrs</th>\n",
       "      <th>RevolvingUtilizationOfUnsecuredLines</th>\n",
       "      <th>age</th>\n",
       "      <th>NumberOfTime30-59DaysPastDueNotWorse</th>\n",
       "      <th>DebtRatio</th>\n",
       "      <th>MonthlyIncome</th>\n",
       "      <th>NumberOfOpenCreditLinesAndLoans</th>\n",
       "      <th>NumberOfTimes90DaysLate</th>\n",
       "      <th>NumberRealEstateLoansOrLines</th>\n",
       "      <th>NumberOfTime60-89DaysPastDueNotWorse</th>\n",
       "      <th>NumberOfDependents</th>\n",
       "      <th>income_category</th>\n",
       "      <th>NumberOfDependentsFull</th>\n",
       "    </tr>\n",
       "  </thead>\n",
       "  <tbody>\n",
       "    <tr>\n",
       "      <th>6</th>\n",
       "      <td>0</td>\n",
       "      <td>0.305682</td>\n",
       "      <td>57</td>\n",
       "      <td>0</td>\n",
       "      <td>5710.0</td>\n",
       "      <td>NaN</td>\n",
       "      <td>8</td>\n",
       "      <td>0</td>\n",
       "      <td>3</td>\n",
       "      <td>0</td>\n",
       "      <td>0.0</td>\n",
       "      <td>3</td>\n",
       "      <td>0.0</td>\n",
       "    </tr>\n",
       "    <tr>\n",
       "      <th>8</th>\n",
       "      <td>0</td>\n",
       "      <td>0.116951</td>\n",
       "      <td>27</td>\n",
       "      <td>0</td>\n",
       "      <td>46.0</td>\n",
       "      <td>NaN</td>\n",
       "      <td>2</td>\n",
       "      <td>0</td>\n",
       "      <td>0</td>\n",
       "      <td>0</td>\n",
       "      <td>NaN</td>\n",
       "      <td>1</td>\n",
       "      <td>0.0</td>\n",
       "    </tr>\n",
       "    <tr>\n",
       "      <th>16</th>\n",
       "      <td>0</td>\n",
       "      <td>0.061086</td>\n",
       "      <td>78</td>\n",
       "      <td>0</td>\n",
       "      <td>2058.0</td>\n",
       "      <td>NaN</td>\n",
       "      <td>10</td>\n",
       "      <td>0</td>\n",
       "      <td>2</td>\n",
       "      <td>0</td>\n",
       "      <td>0.0</td>\n",
       "      <td>3</td>\n",
       "      <td>0.0</td>\n",
       "    </tr>\n",
       "    <tr>\n",
       "      <th>32</th>\n",
       "      <td>0</td>\n",
       "      <td>0.083418</td>\n",
       "      <td>62</td>\n",
       "      <td>0</td>\n",
       "      <td>977.0</td>\n",
       "      <td>NaN</td>\n",
       "      <td>6</td>\n",
       "      <td>0</td>\n",
       "      <td>1</td>\n",
       "      <td>0</td>\n",
       "      <td>0.0</td>\n",
       "      <td>3</td>\n",
       "      <td>0.0</td>\n",
       "    </tr>\n",
       "    <tr>\n",
       "      <th>41</th>\n",
       "      <td>0</td>\n",
       "      <td>0.072898</td>\n",
       "      <td>81</td>\n",
       "      <td>0</td>\n",
       "      <td>75.0</td>\n",
       "      <td>NaN</td>\n",
       "      <td>7</td>\n",
       "      <td>0</td>\n",
       "      <td>0</td>\n",
       "      <td>0</td>\n",
       "      <td>0.0</td>\n",
       "      <td>1</td>\n",
       "      <td>0.0</td>\n",
       "    </tr>\n",
       "  </tbody>\n",
       "</table>\n",
       "</div>"
      ],
      "text/plain": [
       "    SeriousDlqin2yrs  RevolvingUtilizationOfUnsecuredLines  age  \\\n",
       "6                  0                              0.305682   57   \n",
       "8                  0                              0.116951   27   \n",
       "16                 0                              0.061086   78   \n",
       "32                 0                              0.083418   62   \n",
       "41                 0                              0.072898   81   \n",
       "\n",
       "    NumberOfTime30-59DaysPastDueNotWorse  DebtRatio  MonthlyIncome  \\\n",
       "6                                      0     5710.0            NaN   \n",
       "8                                      0       46.0            NaN   \n",
       "16                                     0     2058.0            NaN   \n",
       "32                                     0      977.0            NaN   \n",
       "41                                     0       75.0            NaN   \n",
       "\n",
       "    NumberOfOpenCreditLinesAndLoans  NumberOfTimes90DaysLate  \\\n",
       "6                                 8                        0   \n",
       "8                                 2                        0   \n",
       "16                               10                        0   \n",
       "32                                6                        0   \n",
       "41                                7                        0   \n",
       "\n",
       "    NumberRealEstateLoansOrLines  NumberOfTime60-89DaysPastDueNotWorse  \\\n",
       "6                              3                                     0   \n",
       "8                              0                                     0   \n",
       "16                             2                                     0   \n",
       "32                             1                                     0   \n",
       "41                             0                                     0   \n",
       "\n",
       "    NumberOfDependents  income_category  NumberOfDependentsFull  \n",
       "6                  0.0                3                     0.0  \n",
       "8                  NaN                1                     0.0  \n",
       "16                 0.0                3                     0.0  \n",
       "32                 0.0                3                     0.0  \n",
       "41                 0.0                1                     0.0  "
      ]
     },
     "execution_count": 63,
     "metadata": {},
     "output_type": "execute_result"
    }
   ],
   "source": [
    "default_data = training.copy()\n",
    "default_data.head()"
   ]
  },
  {
   "cell_type": "code",
   "execution_count": 64,
   "metadata": {},
   "outputs": [],
   "source": [
    "train_default = default_data.drop(columns=['MonthlyIncome', 'NumberOfDependents', 'SeriousDlqin2yrs'])\n",
    "outcome_default = default_data.SeriousDlqin2yrs.map(int)"
   ]
  },
  {
   "cell_type": "code",
   "execution_count": 65,
   "metadata": {},
   "outputs": [
    {
     "name": "stdout",
     "output_type": "stream",
     "text": [
      "<class 'pandas.core.frame.DataFrame'>\n",
      "Int64Index: 149741 entries, 6 to 149999\n",
      "Data columns (total 13 columns):\n",
      "SeriousDlqin2yrs                        149741 non-null int64\n",
      "RevolvingUtilizationOfUnsecuredLines    149741 non-null float64\n",
      "age                                     149741 non-null int64\n",
      "NumberOfTime30-59DaysPastDueNotWorse    149741 non-null int64\n",
      "DebtRatio                               149741 non-null float64\n",
      "MonthlyIncome                           120091 non-null float64\n",
      "NumberOfOpenCreditLinesAndLoans         149741 non-null int64\n",
      "NumberOfTimes90DaysLate                 149741 non-null int64\n",
      "NumberRealEstateLoansOrLines            149741 non-null int64\n",
      "NumberOfTime60-89DaysPastDueNotWorse    149741 non-null int64\n",
      "NumberOfDependents                      145832 non-null float64\n",
      "income_category                         149741 non-null int64\n",
      "NumberOfDependentsFull                  149741 non-null float64\n",
      "dtypes: float64(5), int64(8)\n",
      "memory usage: 16.0 MB\n"
     ]
    }
   ],
   "source": [
    "default_data.info()"
   ]
  },
  {
   "cell_type": "code",
   "execution_count": 66,
   "metadata": {},
   "outputs": [],
   "source": [
    "X_train, X_test, y_train, y_test = train_test_split(train_default, outcome_default, test_size = test_size, \n",
    "                                                    random_state=random_seed)"
   ]
  },
  {
   "cell_type": "markdown",
   "metadata": {},
   "source": [
    "### 2.1: Utility functions for model training and evaluation\n",
    "\n",
    "Another metric that would be useful is the F1 score of the minority class. \n",
    "For every predicted probability, I set a threshold to classify it into the positive or negative class.\n",
    "The F1 score is then calculated for a range of different threshold values to find the best trade-off between precision and recall. \n",
    "\n",
    "This is similar to finding the point on the ROC curve which best maximises true positive rate, and minimises false positive rate."
   ]
  },
  {
   "cell_type": "code",
   "execution_count": 75,
   "metadata": {},
   "outputs": [],
   "source": [
    "from sklearn.metrics import classification_report\n",
    "from sklearn.metrics import roc_curve, auc, precision_recall_fscore_support\n",
    "import numpy as np\n",
    "\n",
    "def train_and_eval(model, x_train, x_test, y_train, y_test):\n",
    "    \n",
    "    model.fit(x_train, y_train)\n",
    "    print(f\"Model trained!\")\n",
    "    \n",
    "    y_pred = model.predict_proba(x_test)\n",
    "    \n",
    "    threshold_range_f1(y_pred[:,1], y_test, thresh_start_end=(0.2,0.8))\n",
    "    \n",
    "    fpr, tpr, thresholds = roc_curve(y_test, y_pred[:,1])\n",
    "    plt.title('Receiver Operating Characteristic')\n",
    "    plt.plot(fpr, tpr, 'b', label = 'AUC = %0.4f' % auc(fpr, tpr))\n",
    "    plt.legend(loc = 'lower right')\n",
    "    plt.plot([0, 1], [0, 1],'r--')\n",
    "    plt.xlim([0, 1])\n",
    "    plt.ylim([0, 1])\n",
    "    plt.ylabel('True Positive Rate')\n",
    "    plt.xlabel('False Positive Rate')\n",
    "    plt.show()\n",
    "    \n",
    "    return model\n",
    "\n",
    "def threshold_range_f1(y_prob, y_test, thresh_start_end):\n",
    "    start, end = thresh_start_end\n",
    "    threshold = start\n",
    "    increment = 0.1\n",
    "    \n",
    "    while threshold <= end: \n",
    "        threshold_f1(y_prob, y_test, round(threshold, 1))\n",
    "        threshold += increment\n",
    "        print(\"-------\")\n",
    "        \n",
    "def threshold_f1(y_prob, y_test, threshold=0.5):\n",
    "    y_pred = np.where(y_prob >= threshold, 1, 0)\n",
    "    p, r, f1, _ = precision_recall_fscore_support(y_test, y_pred, average='binary')\n",
    "    print(f\"THRESHOLD: {threshold}\")\n",
    "    print(f\"P: {round(p,3)}, R: {round(r,3)}, F1: {round(f1,3)}\")"
   ]
  },
  {
   "cell_type": "markdown",
   "metadata": {},
   "source": [
    "### 2.2: Random Forest classifier"
   ]
  },
  {
   "cell_type": "code",
   "execution_count": 74,
   "metadata": {},
   "outputs": [
    {
     "name": "stdout",
     "output_type": "stream",
     "text": [
      "Model trained!\n",
      "THRESHOLD: 0.2\n",
      "P: 0.328, R: 0.524, F1: 0.403\n",
      "-------\n",
      "THRESHOLD: 0.3\n",
      "P: 0.406, R: 0.407, F1: 0.406\n",
      "-------\n",
      "THRESHOLD: 0.4\n",
      "P: 0.473, R: 0.296, F1: 0.365\n",
      "-------\n",
      "THRESHOLD: 0.5\n",
      "P: 0.527, R: 0.198, F1: 0.288\n",
      "-------\n",
      "THRESHOLD: 0.6\n",
      "P: 0.579, R: 0.112, F1: 0.188\n",
      "-------\n",
      "THRESHOLD: 0.7\n",
      "P: 0.616, R: 0.044, F1: 0.082\n",
      "-------\n",
      "THRESHOLD: 0.8\n",
      "P: 0.603, R: 0.013, F1: 0.025\n",
      "-------\n"
     ]
    },
    {
     "data": {
      "image/png": "[encoded data removed]",
      "text/plain": [
       "<matplotlib.figure.Figure at 0x1c47c258d0>"
      ]
     },
     "metadata": {},
     "output_type": "display_data"
    }
   ],
   "source": [
    "from sklearn.ensemble import RandomForestClassifier\n",
    "\n",
    "max_depth = None\n",
    "no_trees = 200\n",
    "\n",
    "rfc = RandomForestClassifier(n_estimators=no_trees, random_state=random_seed, max_depth=max_depth)\n",
    "rfc = train_and_eval(rfc, X_train, X_test, y_train, y_test)"
   ]
  },
  {
   "cell_type": "code",
   "execution_count": 87,
   "metadata": {},
   "outputs": [
    {
     "name": "stdout",
     "output_type": "stream",
     "text": [
      "Fitting 3 folds for each of 6 candidates, totalling 18 fits\n"
     ]
    },
    {
     "name": "stderr",
     "output_type": "stream",
     "text": [
      "[Parallel(n_jobs=1)]: Done  18 out of  18 | elapsed:  1.2min finished\n"
     ]
    },
    {
     "data": {
      "text/plain": [
       "GridSearchCV(cv=None, error_score='raise',\n",
       "       estimator=RandomForestClassifier(bootstrap=True, class_weight=None, criterion='gini',\n",
       "            max_depth=None, max_features='auto', max_leaf_nodes=None,\n",
       "            min_impurity_decrease=0.0, min_impurity_split=None,\n",
       "            min_samples_leaf=1, min_samples_split=2,\n",
       "            min_weight_fraction_leaf=0.0, n_estimators=10, n_jobs=1,\n",
       "            oob_score=False, random_state=None, verbose=0,\n",
       "            warm_start=False),\n",
       "       fit_params=None, iid=True, n_jobs=1,\n",
       "       param_grid={'n_estimators': range(50, 200, 50), 'max_depth': range(6, 10, 2)},\n",
       "       pre_dispatch='2*n_jobs', refit=True, return_train_score='warn',\n",
       "       scoring='roc_auc', verbose=1)"
      ]
     },
     "execution_count": 87,
     "metadata": {},
     "output_type": "execute_result"
    }
   ],
   "source": [
    "from sklearn.model_selection import GridSearchCV\n",
    "\n",
    "rf_grid = {\"n_estimators\": range(50, 200, 50),\n",
    "          \"max_depth\": range(6, 10, 2)}\n",
    "\n",
    "rf = RandomForestClassifier()\n",
    "grid_search = GridSearchCV(estimator=rf, param_grid=rf_grid,\n",
    "                          scoring='roc_auc', verbose=1)\n",
    "\n",
    "grid_search.fit(X_train, y_train)"
   ]
  },
  {
   "cell_type": "code",
   "execution_count": 89,
   "metadata": {},
   "outputs": [
    {
     "data": {
      "text/plain": [
       "{'max_depth': 8, 'n_estimators': 150}"
      ]
     },
     "execution_count": 89,
     "metadata": {},
     "output_type": "execute_result"
    }
   ],
   "source": [
    "grid_search.best_params_"
   ]
  },
  {
   "cell_type": "code",
   "execution_count": 92,
   "metadata": {},
   "outputs": [
    {
     "name": "stdout",
     "output_type": "stream",
     "text": [
      "Model trained!\n",
      "THRESHOLD: 0.2\n",
      "P: 0.398, R: 0.505, F1: 0.445\n",
      "-------\n",
      "THRESHOLD: 0.3\n",
      "P: 0.467, R: 0.371, F1: 0.414\n",
      "-------\n",
      "THRESHOLD: 0.4\n",
      "P: 0.537, R: 0.256, F1: 0.347\n",
      "-------\n",
      "THRESHOLD: 0.5\n",
      "P: 0.582, R: 0.156, F1: 0.245\n",
      "-------\n",
      "THRESHOLD: 0.6\n",
      "P: 0.663, R: 0.066, F1: 0.12\n",
      "-------\n",
      "THRESHOLD: 0.7\n",
      "P: 0.75, R: 0.017, F1: 0.034\n",
      "-------\n",
      "THRESHOLD: 0.8\n",
      "P: 0.6, R: 0.001, F1: 0.002\n",
      "-------\n"
     ]
    },
    {
     "data": {
      "image/png": "[encoded data removed]",
      "text/plain": [
       "<matplotlib.figure.Figure at 0x1a38e9a0f0>"
      ]
     },
     "metadata": {},
     "output_type": "display_data"
    }
   ],
   "source": [
    "from sklearn.ensemble import RandomForestClassifier\n",
    "\n",
    "max_depth = 8\n",
    "no_trees = 150\n",
    "\n",
    "rfc = RandomForestClassifier(n_estimators=no_trees, random_state=random_seed, max_depth=max_depth)\n",
    "rfc = train_and_eval(rfc, X_train, X_test, y_train, y_test)"
   ]
  },
  {
   "cell_type": "markdown",
   "metadata": {},
   "source": [
    "### 2.3: Logistic regression"
   ]
  },
  {
   "cell_type": "code",
   "execution_count": 93,
   "metadata": {},
   "outputs": [
    {
     "name": "stdout",
     "output_type": "stream",
     "text": [
      "Model trained!\n",
      "THRESHOLD: 0.2\n",
      "P: 0.28, R: 0.333, F1: 0.304\n",
      "-------\n",
      "THRESHOLD: 0.3\n",
      "P: 0.366, R: 0.195, F1: 0.254\n",
      "-------\n",
      "THRESHOLD: 0.4\n",
      "P: 0.467, R: 0.122, F1: 0.193\n",
      "-------\n",
      "THRESHOLD: 0.5\n",
      "P: 0.515, R: 0.079, F1: 0.137\n",
      "-------\n",
      "THRESHOLD: 0.6\n",
      "P: 0.534, R: 0.053, F1: 0.096\n",
      "-------\n",
      "THRESHOLD: 0.7\n",
      "P: 0.506, R: 0.03, F1: 0.057\n",
      "-------\n",
      "THRESHOLD: 0.8\n",
      "P: 0.478, R: 0.011, F1: 0.021\n",
      "-------\n"
     ]
    },
    {
     "data": {
      "image/png": "[encoded data removed]",
      "text/plain": [
       "<matplotlib.figure.Figure at 0x1a34caad68>"
      ]
     },
     "metadata": {},
     "output_type": "display_data"
    }
   ],
   "source": [
    "from sklearn.linear_model import LogisticRegression\n",
    "\n",
    "lr = LogisticRegression(solver=\"lbfgs\", random_state=random_seed)\n",
    "lr = train_and_eval(lr, X_train, X_test, y_train, y_test)"
   ]
  },
  {
   "cell_type": "code",
   "execution_count": 70,
   "metadata": {},
   "outputs": [
    {
     "name": "stdout",
     "output_type": "stream",
     "text": [
      "Requirement already satisfied: xgboost in /Users/cjiahui/anaconda3/lib/python3.6/site-packages (1.0.2)\n",
      "Requirement already satisfied: numpy in /Users/cjiahui/anaconda3/lib/python3.6/site-packages (from xgboost) (1.14.0)\n",
      "Requirement already satisfied: scipy in /Users/cjiahui/anaconda3/lib/python3.6/site-packages (from xgboost) (1.0.0)\n",
      "\u001b[33mWARNING: You are using pip version 19.1.1, however version 20.0.2 is available.\n",
      "You should consider upgrading via the 'pip install --upgrade pip' command.\u001b[0m\n"
     ]
    }
   ],
   "source": [
    "#!pip install xgboost"
   ]
  },
  {
   "cell_type": "markdown",
   "metadata": {},
   "source": [
    "### 2.4: Extreme gradient boosting"
   ]
  },
  {
   "cell_type": "code",
   "execution_count": 94,
   "metadata": {},
   "outputs": [
    {
     "name": "stdout",
     "output_type": "stream",
     "text": [
      "Model trained!\n",
      "THRESHOLD: 0.2\n",
      "P: 0.383, R: 0.501, F1: 0.434\n",
      "-------\n",
      "THRESHOLD: 0.3\n",
      "P: 0.448, R: 0.383, F1: 0.413\n",
      "-------\n",
      "THRESHOLD: 0.4\n",
      "P: 0.504, R: 0.29, F1: 0.368\n",
      "-------\n",
      "THRESHOLD: 0.5\n",
      "P: 0.547, R: 0.202, F1: 0.295\n",
      "-------\n",
      "THRESHOLD: 0.6\n",
      "P: 0.578, R: 0.131, F1: 0.214\n",
      "-------\n",
      "THRESHOLD: 0.7\n",
      "P: 0.634, R: 0.073, F1: 0.131\n",
      "-------\n",
      "THRESHOLD: 0.8\n",
      "P: 0.656, R: 0.029, F1: 0.055\n",
      "-------\n"
     ]
    },
    {
     "data": {
      "image/png": "[encoded data removed]",
      "text/plain": [
       "<matplotlib.figure.Figure at 0x1a2dbfe278>"
      ]
     },
     "metadata": {},
     "output_type": "display_data"
    }
   ],
   "source": [
    "import xgboost as xgb\n",
    "\n",
    "xgb_c = xgb.XGBClassifier(n_jobs=-1, random_state=random_seed)\n",
    "xgb_c = train_and_eval(xgb_c, X_train, X_test, y_train, y_test)"
   ]
  },
  {
   "cell_type": "markdown",
   "metadata": {},
   "source": [
    "## 2.5: Ensemble model\n",
    "\n",
    "An ensemble of the Random Forest classifier and xgboost model had the highest ROC-AUC. Adding the logistic regression lowered the ROC score slightly to 0.8516, so it was removed. "
   ]
  },
  {
   "cell_type": "code",
   "execution_count": 96,
   "metadata": {},
   "outputs": [
    {
     "name": "stdout",
     "output_type": "stream",
     "text": [
      "Model trained!\n",
      "THRESHOLD: 0.2\n",
      "P: 0.395, R: 0.507, F1: 0.444\n",
      "-------\n",
      "THRESHOLD: 0.3\n",
      "P: 0.461, R: 0.381, F1: 0.417\n",
      "-------\n",
      "THRESHOLD: 0.4\n",
      "P: 0.519, R: 0.272, F1: 0.357\n",
      "-------\n",
      "THRESHOLD: 0.5\n",
      "P: 0.58, R: 0.181, F1: 0.276\n",
      "-------\n",
      "THRESHOLD: 0.6\n",
      "P: 0.636, R: 0.098, F1: 0.17\n",
      "-------\n",
      "THRESHOLD: 0.7\n",
      "P: 0.707, R: 0.039, F1: 0.075\n",
      "-------\n",
      "THRESHOLD: 0.8\n",
      "P: 0.581, R: 0.006, F1: 0.012\n",
      "-------\n"
     ]
    },
    {
     "data": {
      "image/png": "[encoded data removed]",
      "text/plain": [
       "<matplotlib.figure.Figure at 0x1a38e66390>"
      ]
     },
     "metadata": {},
     "output_type": "display_data"
    }
   ],
   "source": [
    "from sklearn.ensemble import VotingClassifier\n",
    "\n",
    "estimators = [(\"rf\", rfc), \n",
    "             (\"xgb\", xgb_c)]\n",
    "vc = VotingClassifier(estimators, voting='soft')\n",
    "vc = train_and_eval(vc, X_train, X_test, y_train, y_test)"
   ]
  },
  {
   "cell_type": "markdown",
   "metadata": {},
   "source": [
    "### TBC: Error Analysis"
   ]
  },
  {
   "cell_type": "code",
   "execution_count": null,
   "metadata": {},
   "outputs": [],
   "source": []
  }
 ],
 "metadata": {
  "kernelspec": {
   "display_name": "Python 3",
   "language": "python",
   "name": "python3"
  },
  "language_info": {
   "codemirror_mode": {
    "name": "ipython",
    "version": 3
   },
   "file_extension": ".py",
   "mimetype": "text/x-python",
   "name": "python",
   "nbconvert_exporter": "python",
   "pygments_lexer": "ipython3",
   "version": "3.6.8"
  }
 },
 "nbformat": 4,
 "nbformat_minor": 2
}
